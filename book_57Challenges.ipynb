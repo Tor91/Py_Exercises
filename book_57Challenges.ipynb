{
 "cells": [
  {
   "attachments": {},
   "cell_type": "markdown",
   "id": "8b0cf37b",
   "metadata": {},
   "source": [
    "# Exercises for Programmers\n",
    "### 57 Challenges to Develop Your Coding Skills\n",
    "\n",
    "### ${Brian P. Hogan}$"
   ]
  },
  {
   "attachments": {},
   "cell_type": "markdown",
   "id": "afe72739",
   "metadata": {},
   "source": [
    "### Content\n",
    "\n",
    "#### Chapter 2. Input, Processing, and Output\n",
    "\n",
    "<a href = '#ex1'> 1 Saying Hello</a>  \n",
    "<a href = '#ex2'> 2 Counting the Number of Characters</a>  \n",
    "<a href = '#ex3'> 3 Printing Quotes</a>  \n",
    "<a href = '#ex4'> 4 Mad Lib</a>  \n",
    "<a href = '#ex5'> 5 Simple Math</a>   \n",
    "<a href = '#ex6'> 6 Retirement Calculator</a>\n",
    "\n",
    "#### Chapter 3. Calculations\n",
    "<a href = '#ex7'> 7 Area of a Rectangular Room</a>  \n",
    "<a href = '#ex8'> 8 Pizza Party</a>\n",
    "\n"
   ]
  },
  {
   "attachments": {},
   "cell_type": "markdown",
   "id": "4a171f34",
   "metadata": {},
   "source": [
    "### $1.$ Saying Hello\n",
    "<a id='ex1'></a>\n",
    "\n",
    "The <code>“Hello, World”</code> program is the first program you learn\n",
    "to write in many languages, but it doesn’t involve any input.\n",
    "So create a program that prompts for your name and prints\n",
    "a greeting using your name."
   ]
  },
  {
   "cell_type": "code",
   "execution_count": 22,
   "id": "7ecda282",
   "metadata": {},
   "outputs": [
    {
     "name": "stdout",
     "output_type": "stream",
     "text": [
      "Hello Tornike, nice to meet you!\n"
     ]
    }
   ],
   "source": [
    "name = input(\"what is your name? \")\n",
    "print(f\"Hello {name}, nice to meet you!\")"
   ]
  },
  {
   "attachments": {},
   "cell_type": "markdown",
   "id": "231d7c69",
   "metadata": {},
   "source": [
    "<b>Challenge<b>\n",
    "    \n",
    "$\\bullet$ Write a new version of the program without using any\n",
    "variables."
   ]
  },
  {
   "cell_type": "code",
   "execution_count": 23,
   "id": "656dc0a7",
   "metadata": {},
   "outputs": [
    {
     "name": "stdout",
     "output_type": "stream",
     "text": [
      "Hello, T nice to meet you!\n"
     ]
    }
   ],
   "source": [
    "print('Hello, ' + input('name') + ' nice to meet you!')"
   ]
  },
  {
   "cell_type": "code",
   "execution_count": 24,
   "id": "6df26cb0",
   "metadata": {},
   "outputs": [
    {
     "name": "stdout",
     "output_type": "stream",
     "text": [
      "Hello, T! Nice to meet you!\n"
     ]
    }
   ],
   "source": [
    "print(\"Hello, \" + input(\"Enter your name: \") + \"! Nice to meet you!\")"
   ]
  },
  {
   "attachments": {},
   "cell_type": "markdown",
   "id": "9456e566",
   "metadata": {},
   "source": [
    "<b>Challenge<b>\n",
    "    \n",
    "$\\bullet$ Write a version of the program that displays different\n",
    "greetings for different people. \n"
   ]
  },
  {
   "cell_type": "code",
   "execution_count": 25,
   "id": "20a71d72",
   "metadata": {},
   "outputs": [
    {
     "name": "stdout",
     "output_type": "stream",
     "text": [
      "Hello, Alice! How are you today?\n"
     ]
    }
   ],
   "source": [
    "name = input(\"Enter your name: \")\n",
    "\n",
    "if name == \"Alice\":\n",
    "    print(\"Hello, Alice! How are you today?\")\n",
    "elif name == \"Bob\":\n",
    "    print(\"Hello, Bob! Have a great day!\")\n",
    "elif name == \"James\":\n",
    "    print(\"Hello, \" + name + \"! Glad to meet you!\")\n",
    "else: \n",
    "    print(\"Hi, \" + name + \"! How are you?\")\n",
    "    "
   ]
  },
  {
   "attachments": {},
   "cell_type": "markdown",
   "id": "ec026854",
   "metadata": {},
   "source": [
    "### $2.$ Counting the Number of Characters\n",
    "<a id='ex2'></a>\n",
    "\n",
    "\n",
    "Create a program that prompts for an input string and displays output that shows the input string and the number of\n",
    "characters the string contains.\n",
    "\n",
    "#### Example Output\n",
    "What is the input string? Homer <br>\n",
    "Homer has 5 characters.\n",
    "\n",
    "#### Constraints\n",
    "$\\bullet$ Be sure the output contains the original string. <br>\n",
    "$\\bullet$ Use a single output statement to construct the output. <br>\n",
    "$\\bullet$ Use a built-in function of the programming language to determine the length of the string"
   ]
  },
  {
   "cell_type": "code",
   "execution_count": 26,
   "id": "7cf87898",
   "metadata": {},
   "outputs": [
    {
     "name": "stdout",
     "output_type": "stream",
     "text": [
      " 'Input', has 5 charachters\n"
     ]
    }
   ],
   "source": [
    "in_str = input(\"What is the input string? \")\n",
    "print(f\" \\'{in_str}\\', has {len(in_str)} charachters\")"
   ]
  },
  {
   "attachments": {},
   "cell_type": "markdown",
   "id": "ca4c28cd",
   "metadata": {},
   "source": [
    "### $3.$ Printing Quotes\n",
    "<a id='ex3'></a>\n",
    "\n",
    "Create a program that prompts for a quote and an author. \n",
    "Display the quotation and author as shown in the example\n",
    "output.\n",
    "\n",
    "#### Example Output\n",
    "What is the quote? These aren't the droids you're looking for.\n",
    "Who said it? Obi-Wan Kenobi\n",
    "Obi-Wan Kenobi says, \"These aren't the droids\n",
    "you're looking for.\"\n",
    "\n",
    "#### Constraints\n",
    "$\\bullet$ Use a single output statement to produce this output,\n",
    "using appropriate string-escaping techniques for quotes. \n",
    "\n",
    "• If your language supports string interpolation or string\n",
    "substitution, don’t use it for this exercise. Use string\n",
    "concatenation instead."
   ]
  },
  {
   "cell_type": "code",
   "execution_count": 27,
   "id": "97f701bc",
   "metadata": {},
   "outputs": [
    {
     "name": "stdout",
     "output_type": "stream",
     "text": [
      "me says, \"\"this\".\" \n"
     ]
    }
   ],
   "source": [
    "quote = input(\"What is the quote? \")\n",
    "author = input(\"Who said it?\")\n",
    "print(f\"{author} says, \\\"{quote}.\\\" \")    "
   ]
  },
  {
   "cell_type": "code",
   "execution_count": 28,
   "id": "3101235d",
   "metadata": {},
   "outputs": [
    {
     "name": "stdout",
     "output_type": "stream",
     "text": [
      "me says, \"this.\" \n"
     ]
    }
   ],
   "source": [
    "# string  concatenation\n",
    "quote = input(\"What is the quote? \")\n",
    "author = input(\"Who said it? \")\n",
    "print(author + \" says, \\\"\" + quote + \".\\\" \") "
   ]
  },
  {
   "attachments": {},
   "cell_type": "markdown",
   "id": "6082eed9",
   "metadata": {},
   "source": [
    "#### Challenge\n",
    "\n",
    "In Chapter 7, Data Structures, on page 63, you’ll practice\n",
    "working with lists of data. Modify this program so that\n",
    "instead of prompting for quotes from the user, you cre-\n",
    "ate a structure that holds quotes and their associated\n",
    "attributions and then display all of the quotes using the\n",
    "format in the example. An array of maps would be a\n",
    "good choice."
   ]
  },
  {
   "attachments": {},
   "cell_type": "markdown",
   "id": "ead722d8",
   "metadata": {},
   "source": [
    "### $4$ Mad Lib\n",
    "<a id='ex4'></a>\n",
    "\n",
    "Mad libs are a simple game where you create a story tem-\n",
    "plate with blanks for words. You, or another player, then\n",
    "construct a list of words and place them into the story, cre-\n",
    "ating an often silly or funny story as a result.\n",
    "\n",
    "Create a simple mad-lib program that prompts for a noun,\n",
    "a verb, an adverb, and an adjective and injects those into a\n",
    "story that you create.\n",
    "\n",
    "#### Example Output\n",
    "Enter a noun: dog\n",
    "\n",
    "Enter a verb: walk\n",
    "\n",
    "Enter an adjective: blue\n",
    "\n",
    "Enter an adverb: quickly\n",
    "\n",
    "Do you walk your blue dog quickly? That's hilarious!\n",
    "\n",
    "#### Constraints\n",
    "• Use a single output statement for this program.  \n",
    "• If your language supports string interpolation or string\n",
    "substitution, use it to build up the output."
   ]
  },
  {
   "cell_type": "code",
   "execution_count": 29,
   "id": "d7d01b50",
   "metadata": {},
   "outputs": [
    {
     "name": "stdout",
     "output_type": "stream",
     "text": [
      "Do you go your long me red?\n"
     ]
    }
   ],
   "source": [
    "noun = input(\"Enter a noun:\")\n",
    "verb = input(\"Enter a verb:\")\n",
    "adjective = input(\"Enter a adjective:\")\n",
    "adverb = input(\"Enter a adverb:\")\n",
    "\n",
    "print(f\"Do you {verb} your {adjective} {noun} {adverb}?\")"
   ]
  },
  {
   "attachments": {},
   "cell_type": "markdown",
   "id": "617b66e6",
   "metadata": {},
   "source": [
    "### Challenges\n",
    "• Add more inputs to the program to expand the story.  \n",
    "\n",
    "• Implement a branching story, where the answers to\n",
    "questions determine how the story is constructed. You’ll\n",
    "explore this concept more in the problems in Chapter\n",
    "4, Making Decisions, on page 29."
   ]
  },
  {
   "attachments": {},
   "cell_type": "markdown",
   "id": "fafc5477",
   "metadata": {},
   "source": [
    "### $5$ Simple Math\n",
    "<a id='ex5'></a>\n",
    "Write a program that prompts for two numbers. Print the\n",
    "sum, difference, product, and quotient of those numbers as\n",
    "shown in the example output:\n",
    "\n",
    "#### Example Output\n",
    "What is the first number? 10  \n",
    "What is the second number? 5  \n",
    "10 + 5 = 15  \n",
    "10 - 5 = 5  \n",
    "10 * 5 = 50  \n",
    "10 / 5 = 2 \n",
    "\n",
    "#### Constraints\n",
    "Values coming from users will be strings. Ensure that\n",
    "you convert these values to numbers before doing the\n",
    "math.  \n",
    "• Keep the inputs and outputs separate from the numerical\n",
    "conversions and other processing.  \n",
    "• Generate a single output statement with line breaks in\n",
    "the appropriate spots."
   ]
  },
  {
   "cell_type": "code",
   "execution_count": 30,
   "id": "de23d779",
   "metadata": {},
   "outputs": [
    {
     "name": "stdout",
     "output_type": "stream",
     "text": [
      "10 + 4 = 14 \n",
      "10 - 4 = 6 \n",
      "10 * 4 = 40 \n",
      "10 / 4 = 2 \n"
     ]
    }
   ],
   "source": [
    "first = int(input(\"What is the first number? \"))\n",
    "sec = int(input(\"What is the second number? \"))\n",
    "\n",
    "\n",
    "print(f\"{first} + {sec} = {first+sec} \\n{first} - {sec} = {first-sec} \\n{first} * {sec} = {first*sec} \\n{first} / {sec} = {first//sec} \")"
   ]
  },
  {
   "attachments": {},
   "cell_type": "markdown",
   "id": "33247c24",
   "metadata": {},
   "source": [
    "### Challenges\n",
    "• Revise the program to ensure that inputs are entered as\n",
    "numeric values. Don’t allow the user to proceed if the\n",
    "value entered is not numeric.  \n",
    "• Don’t allow the user to enter a negative number.  \n",
    "• Break the program into functions that do the computations. You’ll explore functions in Chapter 5, Functions,\n",
    "on page 45.  \n",
    "• Implement this program as a GUI program that automatically updates the values when any value changes.  "
   ]
  },
  {
   "cell_type": "code",
   "execution_count": 31,
   "id": "98ba5729",
   "metadata": {},
   "outputs": [
    {
     "name": "stdout",
     "output_type": "stream",
     "text": [
      "10 + -2 = 8 \n",
      "10 - -2 = 12 \n",
      "10 * -2 = -20 \n",
      "10 / -2 = -5 \n"
     ]
    }
   ],
   "source": [
    "# Don’t allow the user to proceed if the value entered is not numeric.\n",
    "while True:\n",
    "    try:\n",
    "        first = int(input(\"What is the first number? \"))\n",
    "        sec  = int(input(\"What is the second number? \"))\n",
    "        break\n",
    "    except ValueError:\n",
    "        print(\"Invalid input. Please enter a numeric value.\")\n",
    "\n",
    "print(f\"{first} + {sec} = {first+sec} \\n{first} - {sec} = {first-sec} \\n{first} * {sec} = {first*sec} \\n{first} / {sec} = {first//sec} \")\n"
   ]
  },
  {
   "cell_type": "code",
   "execution_count": 32,
   "id": "5dab98c2",
   "metadata": {},
   "outputs": [
    {
     "name": "stdout",
     "output_type": "stream",
     "text": [
      "Please enter Positive number\n",
      "Please enter Positive number\n",
      "10 + 2 = 12 \n",
      "10 - 2 = 8 \n",
      "10 * 2 = 20 \n",
      "10 / 2 = 5 \n"
     ]
    }
   ],
   "source": [
    "# Don’t allow the user to enter a negative number.\n",
    "# Don’t allow the user to proceed if the value entered is not numeric.\n",
    "while True:\n",
    "    try:\n",
    "        first = int(input(\"What is the first number? \"))\n",
    "        if first < 0:\n",
    "            print(\"Please enter Positive number\")\n",
    "            continue\n",
    "            \n",
    "        sec  = int(input(\"What is the second number? \"))\n",
    "        if sec < 0:\n",
    "            print(\"Please enter Positive number\")\n",
    "            continue\n",
    "        \n",
    "        break\n",
    "    except ValueError:\n",
    "        print(\"Invalid input. Please enter a numeric value.\")\n",
    "\n",
    "        \n",
    "print(f\"{first} + {sec} = {first+sec} \\n{first} - {sec} = {first-sec} \\n{first} * {sec} = {first*sec} \\n{first} / {sec} = {first//sec} \")\n"
   ]
  },
  {
   "attachments": {},
   "cell_type": "markdown",
   "id": "03514adb",
   "metadata": {},
   "source": [
    "### $6$ Retirement Calculator\n",
    "<a id='ex6'></a>\n",
    "Create a program that determines how many years you have\n",
    "left until retirement and the year you can retire. It should\n",
    "prompt for your current age and the age you want to retire\n",
    "and display the output as shown in the example that follows.\n",
    "\n",
    "#### Example Output\n",
    "What is your current age? 25\n",
    "At what age would you like to retire? 65\n",
    "You have 40 years left until you can retire.\n",
    "It's 2015, so you can retire in 2055.\n",
    "\n",
    "#### Constraints\n",
    "•  be sure to convert the input to numerical data\n",
    "before doing any math.  \n",
    "• Don’t hard-code the current year into your program.\n",
    "Get it from the system time via your programming language."
   ]
  },
  {
   "cell_type": "code",
   "execution_count": 33,
   "id": "8e9de55e",
   "metadata": {},
   "outputs": [
    {
     "name": "stdout",
     "output_type": "stream",
     "text": [
      "You have -5 years left until retirement.\n",
      "You can retire in the year 2018\n"
     ]
    }
   ],
   "source": [
    "from datetime import date\n",
    "\n",
    "\n",
    "current_age = int(input(\"What is your current age? \"))\n",
    "retirement_age = int(input(\"At what age do you want to retire? \"))\n",
    "\n",
    "\n",
    "years_left = retirement_age - current_age\n",
    "\n",
    "current_year = date.today().year\n",
    "\n",
    "# Calculate the year of retirement\n",
    "retirement_year = current_year + years_left\n",
    "\n",
    "# Print the result\n",
    "print(\"You have\", years_left, \"years left until retirement.\")\n",
    "print(\"You can retire in the year\", retirement_year)\n"
   ]
  },
  {
   "attachments": {},
   "cell_type": "markdown",
   "id": "dfc1d32c",
   "metadata": {},
   "source": [
    "### Challenges\n",
    "Handle situations where the program returns a negative\n",
    "number by stating that the user can already retire."
   ]
  },
  {
   "cell_type": "code",
   "execution_count": 34,
   "id": "36c20c4f",
   "metadata": {},
   "outputs": [
    {
     "name": "stdout",
     "output_type": "stream",
     "text": [
      "It is Already 1 years you are retired.\n"
     ]
    }
   ],
   "source": [
    "from datetime import date\n",
    "\n",
    "\n",
    "current_age = int(input(\"What is your current age? \"))\n",
    "retirement_age = int(input(\"At what age do you want to retire? \"))\n",
    "\n",
    "\n",
    "years_left = retirement_age - current_age\n",
    "\n",
    "current_year = date.today().year\n",
    "\n",
    "# Calculate the year of retirement\n",
    "retirement_year = current_year + years_left\n",
    "\n",
    "# Print the result\n",
    "if years_left > 0:\n",
    "    print(\"You have\", years_left, \"years left until retirement.\")\n",
    "    print(\"You can retire in the year\", retirement_year)\n",
    "elif years_left < 0: \n",
    "    print(f\"It is Already {abs(years_left)} years you are retired.\")\n",
    "else:\n",
    "    print(\"You can go to retire.\")\n"
   ]
  },
  {
   "attachments": {},
   "cell_type": "markdown",
   "id": "0932306b",
   "metadata": {},
   "source": [
    "### $7$ Area of a Rectangular Room\n",
    "<a id='ex7'></a>\n",
    "Create a program that calculates the area of a room. Prompt\n",
    "the user for the length and width of the room in feet. Then\n",
    "display the area in both square feet and square meters.\n",
    "\n",
    "#### Example Output\n",
    "What is the length of the room in feet? 15    \n",
    "What is the width of the room in feet? 20  \n",
    "You entered dimensions of 15 feet by 20 feet.  \n",
    "The area is 300 square feet\n",
    "27.871 square meters  \n",
    "\n",
    "The formula for this conversion is  \n",
    "$m^2 = f^2 × 0.09290304$\n",
    "\n",
    "#### Constraints\n",
    "• Keep the calculations separate from the output.\n",
    "• Use a constant to hold the conversion factor."
   ]
  },
  {
   "cell_type": "markdown",
   "id": "5d5acf7d",
   "metadata": {},
   "source": []
  },
  {
   "cell_type": "code",
   "execution_count": 5,
   "id": "da133aa3",
   "metadata": {},
   "outputs": [
    {
     "name": "stdout",
     "output_type": "stream",
     "text": [
      "You entered dimensions of 15 feet by 20 feet. \n",
      "The area is 300  squre feet \n",
      "and 27.870912 square meteres\n"
     ]
    }
   ],
   "source": [
    "L = int(input(\"What is the length of the room in feet?\"))\n",
    "W = int(input(\"What is the width of the room in feet?\"))\n",
    "\n",
    "k = 0.3048 # conversion factor\n",
    "\n",
    "print(f\"You entered dimensions of {L} feet by {W} feet. \")\n",
    "print(f\"The area is {L*W}  squre feet \\nand {L*k*W*k} square meteres\")"
   ]
  },
  {
   "attachments": {},
   "cell_type": "markdown",
   "id": "c40ad613",
   "metadata": {},
   "source": [
    "#### Challenges\n",
    "• Revise the program to ensure that inputs are entered as\n",
    "numeric values. Don’t allow the user to proceed if the\n",
    "value entered is not numeric.  \n",
    "• Create a new version of the program that allows you to\n",
    "choose feet or meters for your inputs.  \n",
    "• Implement this program as a GUI program that automatically updates the values when any value changes."
   ]
  },
  {
   "cell_type": "code",
   "execution_count": 11,
   "id": "9e28c378",
   "metadata": {},
   "outputs": [
    {
     "name": "stdout",
     "output_type": "stream",
     "text": [
      "Please enter numeric value\n",
      "You entered dimensions of 3 feet by 3 feet. \n",
      "The area is 9  squre feet \n",
      "and 0.8361273600000001 square meteres\n"
     ]
    }
   ],
   "source": [
    "# Revise the program to ensure that inputs are entered as numeric values. Don’t allow the user to proceed if the value entered is not numeric.\n",
    "\n",
    "while True:\n",
    "    try:\n",
    "        L = int(input(\"What is the length of the room in feet?\"))\n",
    "        W = int(input(\"What is the width of the room in feet?\"))\n",
    "        break\n",
    "    except ValueError:\n",
    "        print(\"Please enter numeric value\")\n",
    "\n",
    "k = 0.3048 # conversion factor\n",
    "print(f\"You entered dimensions of {L} feet by {W} feet. \")\n",
    "print(f\"The area is {L*W}  squre feet \\nand {L*k*W*k} square meteres\")         "
   ]
  },
  {
   "attachments": {},
   "cell_type": "markdown",
   "id": "39de8637",
   "metadata": {},
   "source": [
    "### $8$ Pizza Party\n",
    "<a id='ex8'></a>\n",
    "Write a program to evenly divide pizzas. Prompt for the\n",
    "number of people, the number of pizzas, and the number of\n",
    "slices per pizza. Ensure that the number of pieces comes out\n",
    "even. Display the number of pieces of pizza each person\n",
    "should get. If there are leftovers, show the number of leftover\n",
    "pieces.\n",
    "\n",
    "#### Example Output\n",
    "How many people? 8  \n",
    "How many pizzas do you have? 2  \n",
    "\n",
    "8 people with 2 pizzas\n",
    "Each person gets 2 pieces of pizza.\n",
    "There are 0 leftover pieces.\n",
    "\n",
    "#### Constraints\n",
    "...."
   ]
  },
  {
   "cell_type": "code",
   "execution_count": 23,
   "id": "34754dcb",
   "metadata": {},
   "outputs": [
    {
     "name": "stdout",
     "output_type": "stream",
     "text": [
      "7 people with 4 pizzas Each person gets 1 pieces of pizza. \n",
      "There are 1 leftover pieces.\n"
     ]
    }
   ],
   "source": [
    "Pe = int(input(\"How many people?\"))\n",
    "Pi = int(input(\"How many pizzas do you have?\"))\n",
    "S = int(input(\"Number of slices per pizza?\"))\n",
    "\n",
    "pieces = Pi*S # number of pieces\n",
    "\n",
    "print(f\"{Pe} people with {Pi} pizzas Each person gets {pieces//Pe} pieces of pizza. \\nThere are {pieces-(pieces//Pe*Pe)} leftover pieces.\")\n"
   ]
  },
  {
   "attachments": {},
   "cell_type": "markdown",
   "id": "7113f2ea",
   "metadata": {},
   "source": [
    "#### Challenges\n",
    "• Revise the program to ensure that inputs are entered as\n",
    "numeric values. Don’t allow the user to proceed if the\n",
    "value entered is not numeric.  \n",
    "• Alter the output so it handles pluralization properly,\n",
    "for example:\n",
    "Each person gets 2 pieces of pizza.\n",
    "or\n",
    "Each person gets 1 piece of pizza.\n",
    "Handle the output for leftover pieces appropriately as\n",
    "well.  \n",
    "• Create a variant of the program that prompts for the\n",
    "number of people and the number of pieces each person\n",
    "wants, and calculate how many full pizzas you need to\n",
    "purchase."
   ]
  },
  {
   "cell_type": "markdown",
   "id": "9f212b2f",
   "metadata": {},
   "source": []
  }
 ],
 "metadata": {
  "kernelspec": {
   "display_name": "Python 3 (ipykernel)",
   "language": "python",
   "name": "python3"
  },
  "language_info": {
   "codemirror_mode": {
    "name": "ipython",
    "version": 3
   },
   "file_extension": ".py",
   "mimetype": "text/x-python",
   "name": "python",
   "nbconvert_exporter": "python",
   "pygments_lexer": "ipython3",
   "version": "3.9.13"
  }
 },
 "nbformat": 4,
 "nbformat_minor": 5
}
