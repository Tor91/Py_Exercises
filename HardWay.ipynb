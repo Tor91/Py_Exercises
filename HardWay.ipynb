{
 "cells": [
  {
   "attachments": {},
   "cell_type": "markdown",
   "metadata": {},
   "source": [
    "### LEARN PYTHON 3 THE HARD WAY\n",
    "###### A Very Simple Introduction To The Terrifyingly Beautiful World Of computers And Code\n",
    "#### Zed A. Shaw"
   ]
  },
  {
   "cell_type": "code",
   "execution_count": 4,
   "metadata": {},
   "outputs": [
    {
     "name": "stdout",
     "output_type": "stream",
     "text": [
      "Hello World!\n"
     ]
    }
   ],
   "source": [
    "# EXERCISE 1\n",
    "print(\"Hello World!\")"
   ]
  },
  {
   "cell_type": "code",
   "execution_count": 5,
   "metadata": {},
   "outputs": [
    {
     "name": "stdout",
     "output_type": "stream",
     "text": [
      "Hello comments\n",
      "# is used for comments\n"
     ]
    }
   ],
   "source": [
    "# EXERCISE 2\n",
    "\n",
    "# this is excesise 2\n",
    "# about comments\n",
    "print(\"Hello comments\") \n",
    "print(\"# is used for comments\")"
   ]
  },
  {
   "cell_type": "code",
   "execution_count": 6,
   "metadata": {},
   "outputs": [
    {
     "name": "stdout",
     "output_type": "stream",
     "text": [
      "now i will count my chikens:\n",
      "Hens: 27.0\n",
      "Roosters: 97\n",
      "6.75\n",
      "is it true that 3+2<5-7?\n",
      "it is: False\n",
      "is it true that 3+2>5-7?\n",
      "it is: True\n",
      "True\n"
     ]
    }
   ],
   "source": [
    "# ex 3 - learn python hard way\n",
    "\n",
    "print (\"now i will count my chikens:\")\n",
    "\n",
    "print (\"Hens:\", 25+60/30)\n",
    "print(\"Roosters:\", 100-25*3%4)\n",
    "print(3+2+1-5+4%2-1/4+6)\n",
    "print(\"is it true that 3+2<5-7?\")\n",
    "print(\"it is:\",3+2<5-7)\n",
    "\n",
    "print(\"is it true that 3+2>5-7?\")\n",
    "print(\"it is:\",3+2>5-7)\n",
    "\n",
    "print(2>1)"
   ]
  },
  {
   "cell_type": "code",
   "execution_count": 7,
   "metadata": {},
   "outputs": [
    {
     "name": "stdout",
     "output_type": "stream",
     "text": [
      "there are 100 cars available.\n",
      "There are only 30 drivers available.\n",
      "We can transport 120.0 people today.\n",
      "We have 90 to carpool today.\n",
      "We need to put about 3.0 in each car.\n"
     ]
    }
   ],
   "source": [
    "# EXERCISE 4\n",
    "cars = 100\n",
    "\n",
    "space_in_a_car=4.0\n",
    "drivers = 30\n",
    "passengers = 90\n",
    "cars_not_driven = cars - drivers\n",
    "cars_driven = drivers\n",
    "carpool_capacity =cars_driven*space_in_a_car\n",
    "average_passengers_per_car = passengers/cars_driven\n",
    "\n",
    "\n",
    "print(\"there are\", cars, \"cars available.\")\n",
    "print(\"There are only\", drivers, \"drivers available.\")\n",
    "print(\"We can transport\", carpool_capacity, \"people today.\")\n",
    "print(\"We have\", passengers, \"to carpool today.\")\n",
    "print(\"We need to put about\", average_passengers_per_car, \n",
    "\"in each car.\")"
   ]
  },
  {
   "cell_type": "code",
   "execution_count": 14,
   "metadata": {},
   "outputs": [
    {
     "name": "stdout",
     "output_type": "stream",
     "text": [
      "Let's talk about Zed A. Shaw.\n",
      "Let's talk about Zed A. Shaw.\n",
      "He's 74 inches tall.\n",
      "He's 180 pounds heavy.\n",
      "Actually that's not too heavy.\n",
      "He's got Blue and Brown depending on the coffee.\n",
      "His teeth are usually  White  depending on the coffee.\n",
      "If I add 35, 74, and 180 I get 289\n"
     ]
    }
   ],
   "source": [
    "# EXERCISE 5\n",
    "my_name = 'Zed A. Shaw'\n",
    "my_age = 35 #\n",
    "my_height = 74 # inches\n",
    "my_weight = 180 # lbs\n",
    "my_eyes = 'Blue'\n",
    "my_teeth =  'White'\n",
    "my_hair = 'Brown'\n",
    "\n",
    "\n",
    "print(f\"Let's talk about {my_name}.\")\n",
    "print(\"Let's talk about %s.\" %(my_name))\n",
    "print(f\"He's {my_height} inches tall.\")\n",
    "print(f\"He's {my_weight} pounds heavy.\")\n",
    "print(\"Actually that's not too heavy.\")\n",
    "print(f\"He's got {my_eyes} and {my_hair} depending on the coffee.\")\n",
    "print(f\"His teeth are usually  {my_teeth}  depending on the coffee.\")\n",
    "\n",
    "\n",
    "total = my_age+my_height+my_weight\n",
    "print(f\"If I add {my_age}, {my_height}, and {my_weight} I get {total}\")"
   ]
  },
  {
   "cell_type": "code",
   "execution_count": 9,
   "metadata": {},
   "outputs": [
    {
     "name": "stdout",
     "output_type": "stream",
     "text": [
      "Tehre are 10 types of people.\n",
      "Those who know binary and those don't.\n",
      "I said: Tehre are 10 types of people.\n",
      "I also said: 'Those who know binary and those don't.'\n"
     ]
    }
   ],
   "source": [
    "# EXERCISE 6\n",
    "types_of_people = 10     # Variable int\n",
    "x = f\"Tehre are {types_of_people} types of people.\"  #f'string \n",
    "\n",
    "\n",
    "binary = \"binary\"\n",
    "do_not = \"don't\"\n",
    "y = f\"Those who know {binary} and those {do_not}.\"\n",
    "\n",
    "print(x)\n",
    "print(y)\n",
    "\n",
    "print(f\"I said: {x}\")\n",
    "print(f\"I also said: '{y}'\")"
   ]
  },
  {
   "cell_type": "code",
   "execution_count": 15,
   "metadata": {},
   "outputs": [
    {
     "name": "stdout",
     "output_type": "stream",
     "text": [
      "Mary had a little lamb\n",
      "Its fleece was white as snow\n",
      "..........\n",
      "Chees Chees\n"
     ]
    }
   ],
   "source": [
    "# EXERCISE 7\n",
    "\n",
    "print(\"Mary had a little lamb\")\n",
    "print(\"Its fleece was white as {}\".format('snow'))\n",
    "print(\".\"*10)   # prints , 10 times ..........\n",
    "\n",
    "end1= 'C'\n",
    "end2='h'\n",
    "end3='e'\n",
    "end4 = 's'\n",
    "\n",
    "\n",
    "\n",
    "print(end1+end2+end3*2+end4, end=' ')   # end=' ' - space\n",
    "print(end1+end2+end3*2+end4)"
   ]
  },
  {
   "cell_type": "code",
   "execution_count": null,
   "metadata": {},
   "outputs": [],
   "source": [
    "# EXERCISE 8   Printing, Printing\n",
    "formatter = \"{} {} {} {}\"\n",
    "\n",
    "print(formatter.format(1,2,3,4))   # prints 1 2 3 4\n",
    "print(formatter.format(\"one\", \"two\", \"three\", \"four\"))   # prints: one two three four\n",
    "print(formatter.format(formatter, formatter, formatter, formatter))  # prinst {} .. 12 times\n",
    "\n"
   ]
  },
  {
   "cell_type": "code",
   "execution_count": 18,
   "metadata": {},
   "outputs": [
    {
     "name": "stdout",
     "output_type": "stream",
     "text": [
      "Here are the days:  Mon Tue Wed Thu Fri Sat Sun\n",
      "Here are the months:  Jan\n",
      "Feb\n",
      "Mar\n",
      "Apr\n",
      "May\n",
      "Jun\n",
      "Jul\n",
      "Aug\n",
      " There's something going on here. With the three double-quotes. \n",
      "We'll be able to type as much as we like.\n",
      "Even 4 lines if we want, or 5, or 6.\n",
      "\n"
     ]
    }
   ],
   "source": [
    "# EXERCISE 9 . Printing, Printing, Printing\n",
    "\n",
    "\n",
    "days = \"Mon Tue Wed Thu Fri Sat Sun\"\n",
    "months = \"Jan\\nFeb\\nMar\\nApr\\nMay\\nJun\\nJul\\nAug\"\n",
    "\n",
    "print(\"Here are the days: \", days)\n",
    "print(\"Here are the months: \", months)\n",
    "\n",
    "print(\"\"\" There's something going on here. With the three double-quotes. \n",
    "We'll be able to type as much as we like.\n",
    "Even 4 lines if we want, or 5, or 6.\n",
    "\"\"\")\n",
    "\n"
   ]
  },
  {
   "cell_type": "code",
   "execution_count": 16,
   "metadata": {},
   "outputs": [
    {
     "name": "stdout",
     "output_type": "stream",
     "text": [
      "How old are you?So are 12   years old\n",
      "So you are 12  years old\n",
      "120\n"
     ]
    }
   ],
   "source": [
    "# EXERCISE 10\n",
    "print(\"How old are you?\", end='')\n",
    "age = input()\n",
    "\n",
    "print(f\"So are {age}  years old\")\n",
    "print(\"So you are\", age, end='')\n",
    "print(\" years old\")\n",
    "\n",
    "\n",
    "height= input(\"How tall are you:\")\n",
    "print(height)"
   ]
  },
  {
   "cell_type": "code",
   "execution_count": null,
   "metadata": {},
   "outputs": [],
   "source": []
  },
  {
   "cell_type": "code",
   "execution_count": null,
   "metadata": {},
   "outputs": [],
   "source": []
  }
 ],
 "metadata": {
  "kernelspec": {
   "display_name": "base",
   "language": "python",
   "name": "python3"
  },
  "language_info": {
   "codemirror_mode": {
    "name": "ipython",
    "version": 3
   },
   "file_extension": ".py",
   "mimetype": "text/x-python",
   "name": "python",
   "nbconvert_exporter": "python",
   "pygments_lexer": "ipython3",
   "version": "3.9.12"
  },
  "orig_nbformat": 4,
  "vscode": {
   "interpreter": {
    "hash": "46c2bb3ca1c4e2a6d6e9688833fbe2a6fdfd1398f8c5a163d866af4140733384"
   }
  }
 },
 "nbformat": 4,
 "nbformat_minor": 2
}
