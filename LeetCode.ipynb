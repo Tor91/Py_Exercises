{
 "cells": [
  {
   "cell_type": "markdown",
   "id": "70794805",
   "metadata": {},
   "source": [
    "### Solutions of Some problems frmo LeetCode (Mostly 'easy')."
   ]
  },
  {
   "cell_type": "markdown",
   "id": "5668873c",
   "metadata": {},
   "source": [
    "### 69. Sqrt(x)\n",
    "Given a non-negative integer $x$, return the square root of $x$ rounded down to the nearest integer. The returned integer should be non-negative as well.\n",
    "\n",
    "You must not use any built-in exponent function or operator.\n",
    "\n",
    "For example, do not use pow(x, 0.5) in c++ or x ** 0.5 in python."
   ]
  },
  {
   "cell_type": "code",
   "execution_count": 2,
   "id": "c2cf8c12",
   "metadata": {},
   "outputs": [],
   "source": [
    "def mySqrt(x):\n",
    "    if x == 0:\n",
    "        return 0\n",
    "    if x == 1:\n",
    "        return 1\n",
    "    left = 0\n",
    "    right = x\n",
    "    while left < right:\n",
    "        mid = (left + right) // 2\n",
    "        if mid ** 2 <= x < (mid + 1) ** 2:\n",
    "            return mid\n",
    "        elif x < mid ** 2:\n",
    "            right = mid - 1\n",
    "        else:\n",
    "            left = mid + 1\n",
    "    return \n"
   ]
  },
  {
   "cell_type": "code",
   "execution_count": 3,
   "id": "834131e9",
   "metadata": {},
   "outputs": [
    {
     "data": {
      "text/plain": [
       "2"
      ]
     },
     "execution_count": 3,
     "metadata": {},
     "output_type": "execute_result"
    }
   ],
   "source": [
    "mySqrt(4)"
   ]
  },
  {
   "attachments": {},
   "cell_type": "markdown",
   "id": "94cffe55",
   "metadata": {},
   "source": [
    "You’re given a dataframe of students named students_df:\n",
    "\n",
    "students_df table   \n",
    "name__age__favorite_color__grade   \n",
    "Tim Voss\t19\tred\t91  \n",
    "Nicole Johnson\t20\tyellow\t95   \n",
    "Elsa Williams\t21\tgreen\t82    \n",
    "John James\t20\tblue\t75  \n",
    "Catherine Jones\t23\tgreen\t93  \n",
    "\n",
    "Write a function named grades_colors to select only the rows where the student’s favorite color is green or red and their grade is above 90."
   ]
  },
  {
   "cell_type": "code",
   "execution_count": 4,
   "id": "c997b9b1",
   "metadata": {},
   "outputs": [],
   "source": [
    "import pandas as pd\n",
    "\n",
    "def grades_colors(students_df: pd.DataFrame):\n",
    "    students_df = students_df[(students_df['favorite_color']=='red')|(students_df['favorite_color']=='green') ]\n",
    "    students_df = students_df[(students_df['grade']>90)]\n",
    "    return students_df\n",
    "    "
   ]
  },
  {
   "cell_type": "code",
   "execution_count": 5,
   "id": "1e809077",
   "metadata": {},
   "outputs": [
    {
     "name": "stdout",
     "output_type": "stream",
     "text": [
      "              name  age favorite_color  grade\n",
      "0         Tim Voss   19            red     91\n",
      "4  Catherine Jones   23          green     93\n"
     ]
    }
   ],
   "source": [
    "students_df = pd.DataFrame({'name': ['Tim Voss', 'Nicole Johnson', 'Elsa Williams', 'John James', 'Catherine Jones'], \n",
    "                           'age': [19, 20, 21, 20, 23], \n",
    "                           'favorite_color': ['red', 'yellow', 'green', 'blue', 'green'], \n",
    "                           'grade': [91, 95, 82, 75, 93]})\n",
    "print(grades_colors(students_df))"
   ]
  },
  {
   "cell_type": "markdown",
   "id": "263cb79b",
   "metadata": {},
   "source": [
    "### Find the Missing Number\n",
    "You have an array of integers, nums of length n spanning 0 to n with one missing. Write a function missing_number that returns the missing number in the array.\n",
    "\n",
    "Note: Complexity of O(n) required."
   ]
  },
  {
   "cell_type": "code",
   "execution_count": null,
   "id": "24a6f0da",
   "metadata": {},
   "outputs": [],
   "source": [
    "def missing_number(nums):\n",
    "    n = len(nums)\n",
    "    expected_sum = n * (n + 1) // 2\n",
    "    actual_sum = sum(nums)\n",
    "    return expected_sum - actual_sum\n",
    "    \n",
    "nums = [0,1,2,4,5] \n",
    "missing_number(nums) "
   ]
  },
  {
   "cell_type": "markdown",
   "id": "cc11cf4c",
   "metadata": {},
   "source": [
    "### Minimum Absolute Distance\n",
    "Given an array of integers, write a function min_distance to calculate the minimum absolute distance between two elements then return all pairs having that absolute difference.\n",
    "\n",
    "Note: Make sure to return the pairs in ascending order."
   ]
  },
  {
   "cell_type": "code",
   "execution_count": null,
   "id": "76d58eaa",
   "metadata": {},
   "outputs": [],
   "source": [
    "v = [3, 12, 126, 44, 52, 57, 144, 61, 68, 72, 122]\n",
    "v.sort()\n",
    "\n",
    "min = abs(v[0]-v[1])\n",
    "for i in range(len(v)-1):\n",
    "    if abs(v[i]-v[i+1]) <= min:\n",
    "        min = abs(v[i]-v[i+1])\n",
    "\n",
    "output = []    \n",
    "for i in range(len(v)-1):\n",
    "    if abs(v[i]-v[i+1]) == min:\n",
    "        output.append([v[i],v[i+1]])\n",
    "print(output)\n",
    "    \n",
    "print(min, output)\n",
    "    \n"
   ]
  },
  {
   "cell_type": "markdown",
   "id": "20372cd3",
   "metadata": {},
   "source": [
    "### 21. Merge Two Sorted Lists \n",
    "You are given the heads of two sorted linked lists list1 and list2.\n",
    "\n",
    "Merge the two lists in a one sorted list. The list should be made by splicing together the nodes of the first two lists.\n",
    "\n",
    "Return the head of the merged linked list."
   ]
  },
  {
   "cell_type": "code",
   "execution_count": null,
   "id": "0666e62b",
   "metadata": {},
   "outputs": [],
   "source": [
    " #def mergeTwoLists(self, list1: Optional[ListNode], list2: Optional[ListNode]) -> Optional[ListNode]:"
   ]
  },
  {
   "cell_type": "code",
   "execution_count": null,
   "id": "22bede54",
   "metadata": {},
   "outputs": [],
   "source": [
    "list1 = [1,2,4]\n",
    "list2 = [1,3,4]\n",
    "list2.sort()\n",
    "list1.extend(list2)\n",
    "list1.sort()\n",
    "\n",
    "print(list1)\n",
    "\n",
    "# it works but not For LeetCode\n",
    "# in LetCode I have to write sort() manually and extend()"
   ]
  },
  {
   "cell_type": "code",
   "execution_count": null,
   "id": "dcc05c00",
   "metadata": {},
   "outputs": [],
   "source": [
    "list1 = [1,2,4]\n",
    "list2 = [1,3,4]\n",
    "\n",
    "for i in range(len(list2)):\n",
    "    a = list2[i]\n",
    "    list1.append(a)\n",
    "    \n",
    "print(list1)\n",
    "    \n",
    "    \n"
   ]
  },
  {
   "cell_type": "markdown",
   "id": "b5062202",
   "metadata": {},
   "source": [
    "### 26. Remove Duplicates from Sorted Array\n",
    "<a id=\"26\"></a>\n",
    "Given an integer array nums sorted in non-decreasing order, remove the duplicates in-place such that each unique element appears only once. \n",
    "The relative order of the elements should be kept the same.\n",
    "\n",
    "Input: nums = [1,1,2]  $\\newline$\n",
    "Output: 2, nums = [1,2,_]"
   ]
  },
  {
   "cell_type": "code",
   "execution_count": null,
   "id": "52880efe",
   "metadata": {},
   "outputs": [],
   "source": [
    "nums = [1,1,2,2,3]\n",
    "nums.sort()\n",
    "nums_d = []\n",
    "for i in range(len(nums)-1):\n",
    "    if nums[i] != nums[i+1]:\n",
    "        nums_d.append(nums[i])\n",
    "for i in range(len(nums_d),len(nums)):\n",
    "    nums_d.extend('-')\n",
    "nums = nums_d\n",
    "nums_d"
   ]
  },
  {
   "cell_type": "code",
   "execution_count": null,
   "id": "ce52ec75",
   "metadata": {},
   "outputs": [],
   "source": [
    "# from GOT\n",
    "def removeDuplicates(nums):\n",
    "    if not nums:\n",
    "        return 0\n",
    "\n",
    "    # Initialize slow and fast pointers\n",
    "    slow = 0\n",
    "    for fast in range(1, len(nums)):\n",
    "        # If the current element is not a duplicate, copy it to the next position\n",
    "        if nums[fast] != nums[slow]:\n",
    "            slow += 1\n",
    "            nums[slow] = nums[fast]\n",
    "\n",
    "    # Return the length of the unique elements\n",
    "    return nums[:slow + 1]\n",
    "nums = [1,1,2,2,3]\n",
    "removeDuplicates(nums)"
   ]
  },
  {
   "cell_type": "markdown",
   "id": "ec5e5890",
   "metadata": {},
   "source": [
    "### 66. Plus One\n",
    "You are given a large integer represented as an integer array digits, where each digits[i] is the ith digit of the integer. The digits are ordered from most significant to least significant in left-to-right order. The large integer does not contain any leading 0's.\n",
    "\n",
    "Increment the large integer by one and return the resulting array of digits.\n",
    "\n",
    "$\\newline$\n",
    "Input: digits = [1,2,3] $\\newline$\n",
    "Output: [1,2,4]$\\newline$\n",
    "Explanation: The array represents the integer 123.\n",
    "Incrementing by one gives 123 + 1 = 124.\n",
    "Thus, the result should be [1,2,4]."
   ]
  },
  {
   "cell_type": "code",
   "execution_count": null,
   "id": "92b96ea4",
   "metadata": {},
   "outputs": [],
   "source": [
    "digits = [9,1,9]\n",
    "output = digits\n",
    "\n",
    "def plusOne(digits):\n",
    "    n = len(digits)\n",
    "    for i in range(n-1, -1, -1):\n",
    "        if digits[i] < 9:\n",
    "            digits[i] += 1\n",
    "            return digits\n",
    "        digits[i] = 0\n",
    "    return [1] + digits\n",
    "    \n",
    "print(plusOne(digits))"
   ]
  },
  {
   "cell_type": "markdown",
   "id": "af55709f",
   "metadata": {},
   "source": [
    "### 67. Add Binary\n",
    "Given two binary strings $a$ and $b$, return their sum as a binary string.\n",
    "\n",
    "\n",
    "Input: a = \"11\", b = \"1\"\n",
    "Output: \"100\""
   ]
  },
  {
   "cell_type": "code",
   "execution_count": null,
   "id": "1b086ee6",
   "metadata": {},
   "outputs": [],
   "source": [
    "a = \"101\"\n",
    "b = \"01\"\n",
    "\n",
    "# convert string ot list\n",
    "#def Convert(string):\n",
    "#    list1 = []\n",
    "#    list1[:0] = string\n",
    "#    return list1\n",
    "\n",
    "#a=Convert(a)\n",
    "#b=Convert(b)\n",
    "\n",
    "#fill \n",
    "if len(a)> len(b):\n",
    "    b_s=[]\n",
    "    for i in range(len(a)-len(b)):\n",
    "        b_s.append('0')\n",
    "    b_s.extend(b)\n",
    "    b=b_s\n",
    "elif len(a) < len(b):\n",
    "    for i in range(len(b)-len(a)):\n",
    "        a[i]='0'\n",
    "c = []\n",
    "n = len(a)\n",
    "#print(a,b)\n",
    "\n"
   ]
  },
  {
   "cell_type": "code",
   "execution_count": null,
   "id": "ad38e623",
   "metadata": {},
   "outputs": [],
   "source": [
    "def addBinary(a, b):\n",
    "    m, n = len(a), len(b)\n",
    "    carry = 0\n",
    "    res = []\n",
    "    i, j = m-1, n-1\n",
    "    while i >= 0 or j >= 0:\n",
    "        sum = carry\n",
    "        if i >= 0:\n",
    "            sum += int(a[i])\n",
    "            i -= 1\n",
    "        if j >= 0:\n",
    "            sum += int(b[j])\n",
    "            j -= 1\n",
    "        carry = sum // 2\n",
    "        res.append(str(sum % 2))\n",
    "    if carry:\n",
    "        res.append(str(carry))\n",
    "    return \"\".join(res[::-1])\n"
   ]
  },
  {
   "cell_type": "markdown",
   "id": "69f507a5",
   "metadata": {},
   "source": [
    "### 989. Add to Array-Form of Integer\n",
    "The array-form of an integer num is an array representing its digits in left to right order.\n",
    "\n",
    "For example, for num = 1321, the array form is [1,3,2,1].\n",
    "Given num, the array-form of an integer, and an integer k, return the array-form of the integer num + k.\n",
    "\n",
    " \n",
    "\n",
    "Example 1:\n",
    "\n",
    "Input: num = [1,2,0,0], k = 34\n",
    "Output: [1,2,3,4]\n",
    "Explanation: 1200 + 34 = 1234"
   ]
  },
  {
   "cell_type": "code",
   "execution_count": null,
   "id": "bb6fc955",
   "metadata": {},
   "outputs": [],
   "source": [
    "num = [2,1,5]\n",
    "k = 806\n",
    "\n",
    "# to convert number to list of integers\n",
    "k = [int(x) for x in str(k)]\n",
    "\n",
    "\n",
    "m, n = len(num), len(k)\n",
    "carry = 0\n",
    "res = []\n",
    "i, j = m-1, n-1\n",
    "\n",
    "while i >= 0 or j >= 0:\n",
    "        sum = carry\n",
    "        if i >= 0:\n",
    "            sum += int(num[i])\n",
    "            i -= 1\n",
    "        if j >= 0:\n",
    "            sum += int(k[j])\n",
    "            j -= 1\n",
    "        carry = sum // 10\n",
    "        res.append(str(sum % 10))\n",
    "if carry:\n",
    "    res.append(str(carry))\n",
    "res.reverse()\n",
    "res2 = [eval(i) for i in res]\n",
    "res2"
   ]
  },
  {
   "cell_type": "markdown",
   "id": "1b62f8e9",
   "metadata": {},
   "source": [
    "### 415. Add Strings\n",
    "\n",
    "Given two non-negative integers, num1 and num2 represented as string, return the sum of num1 and num2 as a string.\n",
    "\n",
    "You must solve the problem without using any built-in library for handling large integers (such as BigInteger). You must also not convert the inputs to integers directly.\n",
    "\n",
    " \n",
    "\n",
    "Example 1:\n",
    "\n",
    "Input: num1 = \"11\", num2 = \"123\"\n",
    "Output: \"134\""
   ]
  },
  {
   "cell_type": "code",
   "execution_count": null,
   "id": "98490b03",
   "metadata": {},
   "outputs": [],
   "source": [
    "num1 = \"11\" \n",
    "num2 = \"123\"\n",
    "\n",
    "str(int(num1)+int(num2))\n",
    "\n"
   ]
  },
  {
   "cell_type": "markdown",
   "id": "d3ab1964",
   "metadata": {},
   "source": [
    "### 1920. Build Array from Permutation\n",
    "Given a zero-based permutation nums (0-indexed), build an array ans of the same length where ans[i] = nums[nums[i]] for each 0 <= i < nums.length and return it.\n",
    "\n",
    "A zero-based permutation nums is an array of distinct integers from 0 to nums.length - 1 (inclusive)."
   ]
  },
  {
   "cell_type": "code",
   "execution_count": 6,
   "id": "aa7db2f7",
   "metadata": {},
   "outputs": [],
   "source": [
    "from typing import List\n",
    "def buildArray(self, nums: List[int]) -> List[int]:\n",
    "        ans = [0] * len(nums)\n",
    "        for i in range(len(nums)):\n",
    "            ans[i] = nums[nums[i]]\n",
    "        return ans"
   ]
  },
  {
   "cell_type": "markdown",
   "id": "2c12c3b9",
   "metadata": {},
   "source": [
    "### 2558. Take Gifts From the Richest Pile\n",
    "\n",
    "You are given an integer array gifts denoting the number of gifts in various piles. Every second, you do the following:\n",
    "\n",
    "$\\bullet$ Choose the pile with the maximum number of gifts. $\\newline$\n",
    "$\\bullet$ If there is more than one pile with the maximum number of gifts, choose any.$\\newline$\n",
    "$\\bullet$ Leave behind the floor of the square root of the number of gifts in the pile. Take the rest of the gifts. $\\newline$\n",
    " Return the number of gifts remaining after $k$ seconds."
   ]
  },
  {
   "cell_type": "code",
   "execution_count": 7,
   "id": "bb1eff6c",
   "metadata": {},
   "outputs": [
    {
     "data": {
      "text/plain": [
       "23"
      ]
     },
     "execution_count": 7,
     "metadata": {},
     "output_type": "execute_result"
    }
   ],
   "source": [
    "import math\n",
    "gifts = [56,41,27,71,62,57,67,34,8,71,2,12,52,1,64,43,32,42,9,25,73,29,31]\n",
    "k=52\n",
    "\n",
    "# choose maximum\n",
    "def pickGifts(gifts,k):\n",
    "    for j in range(k):\n",
    "        max_g = gifts[0]\n",
    "        for i in range(1,len(gifts)):\n",
    "            if gifts[i]>max_g:\n",
    "                max_g = gifts[i]\n",
    "                \n",
    "        for i in range(len(gifts)):\n",
    "            if gifts[i] == max_g:\n",
    "                gifts[i] = math.floor(math.sqrt(max_g))\n",
    "                \n",
    "    return sum(gifts)\n",
    "\n",
    "pickGifts(gifts,k)"
   ]
  },
  {
   "cell_type": "code",
   "execution_count": 9,
   "id": "608784f9",
   "metadata": {},
   "outputs": [
    {
     "data": {
      "text/plain": [
       "32"
      ]
     },
     "execution_count": 9,
     "metadata": {},
     "output_type": "execute_result"
    }
   ],
   "source": [
    "import math\n",
    "gifts = [56,41,27,71,62,57,67,34,8,71,2,12,52,1,64,43,32,42,9,25,73,29,31]\n",
    "k=52\n",
    "\n",
    "def remaining_gifts(gifts, k):\n",
    "    for i in range(k):\n",
    "        max_gift = max(gifts)\n",
    "        max_index = gifts.index(max_gift)\n",
    "        gifts[max_index] =  math.floor(math.sqrt(max_gift))\n",
    "    return sum(gifts)\n",
    "\n",
    "remaining_gifts(gifts,k)"
   ]
  },
  {
   "cell_type": "markdown",
   "id": "b192982f",
   "metadata": {},
   "source": [
    "### 2562. Find the Array Concatenation Value\n",
    "You are given a 0-indexed integer array nums.\n",
    "\n",
    "The concatenation of two numbers is the number formed by concatenating their numerals.\n",
    "\n",
    "For example, the concatenation of 15, 49 is 1549.\n",
    "The concatenation value of nums is initially equal to 0. Perform this operation until nums becomes empty:\n",
    "\n",
    "If there exists more than one number in nums, pick the first element and last element in nums respectively and add the value of their concatenation to the concatenation value of nums, then delete the first and last element from nums.\n",
    "If one element exists, add its value to the concatenation value of nums, then delete it.\n",
    "Return the concatenation value of the nums."
   ]
  },
  {
   "cell_type": "code",
   "execution_count": null,
   "id": "7c136f89",
   "metadata": {},
   "outputs": [],
   "source": [
    "#nums = [7,52,2,4]\n",
    "#nums = [13]\n",
    "con = 0\n",
    "\n",
    "if len(nums) == 1:\n",
    "    con = sum(nums)\n",
    "#con\n",
    "\n",
    "con_val = 0\n",
    "while len(nums)>1:\n",
    "    con = int(str(nums[i])+str(nums[-(i+1)]))\n",
    "    nums.pop(i)\n",
    "    nums.pop(-(i+1))\n",
    "    con_val +=con\n",
    "print(con_val)"
   ]
  },
  {
   "cell_type": "markdown",
   "id": "ffd9b75b",
   "metadata": {},
   "source": [
    "### 1929. Concatenation of Array\n",
    "Given an integer array nums of length n, you want to create an array ans of length 2n where $ans[i] == nums[i]$ and $ans[i + n] == nums[i]$ for $0 <= i < n (0-indexed)$.\n",
    "\n",
    "Specifically, ans is the concatenation of two nums arrays.\n",
    "\n",
    "Return the array ans."
   ]
  },
  {
   "cell_type": "code",
   "execution_count": null,
   "id": "022c8965",
   "metadata": {},
   "outputs": [],
   "source": [
    "nums = [1,2,1]\n",
    "ans = nums + nums\n",
    "print(ans)"
   ]
  },
  {
   "cell_type": "markdown",
   "id": "535fe2aa",
   "metadata": {},
   "source": [
    "### 27. Remove Element\n",
    "Given an integer array nums and an integer val, remove all occurrences of val in nums in-place. The relative order of the elements may be changed.\n",
    "\n",
    "Since it is impossible to change the length of the array in some languages, you must instead have the result be placed in the first part of the array nums. More formally, if there are k elements after removing the duplicates, then the first k elements of nums should hold the final result. It does not matter what you leave beyond the first k elements.\n",
    "\n",
    "Return k after placing the final result in the first k slots of nums.\n",
    "\n",
    "Do not allocate extra space for another array. You must do this by modifying the input array in-place with O(1) extra memory."
   ]
  },
  {
   "cell_type": "code",
   "execution_count": null,
   "id": "ec9b1276",
   "metadata": {},
   "outputs": [],
   "source": [
    "def removeElement(nums, val) -> int:\n",
    "    k = 0\n",
    "    for i in range(len(nums)):\n",
    "        if nums[i] != val:\n",
    "            nums[k] = nums[i]\n",
    "            k += 1\n",
    "    return k"
   ]
  },
  {
   "cell_type": "markdown",
   "id": "b3f9acb2",
   "metadata": {},
   "source": [
    "#### Write code for printing duplicate numbers in a list"
   ]
  },
  {
   "cell_type": "code",
   "execution_count": null,
   "id": "623c2c25",
   "metadata": {},
   "outputs": [],
   "source": [
    "arr = [1, 2, 3, 4, 2, 7, 8, 8, 3];\n",
    "arr.sort()\n",
    "dupl = []\n",
    "for i in range(1,len(arr)):\n",
    "    if arr[i-1] == arr[i]:\n",
    "        dupl.append(arr[i])\n",
    "dupl        \n",
    "        "
   ]
  },
  {
   "cell_type": "markdown",
   "id": "7a708a30",
   "metadata": {},
   "source": [
    "### 2469. Convert the Temperature\n",
    "You are given a non-negative floating point number rounded to two decimal places celsius, that denotes the temperature in Celsius.\n",
    "\n",
    "You should convert Celsius into Kelvin and Fahrenheit and return it as an array $ans = [kelvin, fahrenheit]$.\n",
    "\n",
    "Return the array ans. Answers within $10^{-5}$ of the actual answer will be accepted.\n",
    "\n",
    "Note that: $\\newline$\n",
    "\n",
    "Kelvin = Celsius + 273.15 $\\newline$\n",
    "Fahrenheit = Celsius * 1.80 + 32.00"
   ]
  },
  {
   "cell_type": "code",
   "execution_count": null,
   "id": "101abdb9",
   "metadata": {},
   "outputs": [],
   "source": [
    "celsius = 36.50\n",
    "Kelvin = format(celsius + 273.15,'.4f')\n",
    "Fahrenheit = format(celsius * 1.80 + 32.00,'.4f')\n",
    "Kelvin = float(Kelvin)\n",
    "ans = [Kelvin,Fahrenheit]\n",
    "ans\n",
    "\n"
   ]
  },
  {
   "cell_type": "markdown",
   "id": "38701645",
   "metadata": {},
   "source": [
    "### 1952. Three Divisors\n",
    "Given an integer n, return true if n has exactly three positive divisors. Otherwise, return false.\n",
    "\n",
    "An integer m is a divisor of n if there exists an integer k such that n = k * m."
   ]
  },
  {
   "cell_type": "code",
   "execution_count": null,
   "id": "39a7f5a6",
   "metadata": {},
   "outputs": [],
   "source": [
    "n = 23\n",
    "div = []\n",
    "for i in range(1,n+1):\n",
    "    if n%i==0:\n",
    "        div.append(i)\n",
    "if len(div)==3:\n",
    "    print(True)\n",
    "else:\n",
    "    print(False)\n",
    "    \n",
    "div"
   ]
  },
  {
   "cell_type": "markdown",
   "id": "982c4c52",
   "metadata": {},
   "source": [
    "### 1979. Find Greatest Common Divisor of Array\n",
    "Given an integer array $nums$, return the greatest common divisor of the smallest number and largest number in $nums$.\n",
    "\n",
    "The greatest common divisor of two numbers is the largest positive integer that evenly divides both numbers."
   ]
  },
  {
   "cell_type": "code",
   "execution_count": null,
   "id": "b7ba8966",
   "metadata": {},
   "outputs": [],
   "source": [
    "nums = [2,5,6,9,10]\n",
    "\n",
    "small = min(nums)\n",
    "small"
   ]
  },
  {
   "cell_type": "markdown",
   "id": "a889147c",
   "metadata": {},
   "source": [
    "### 35. Search Insert Position\n",
    "\n",
    "<a id='35'></a>\n",
    "\n",
    "Given a sorted array of distinct integers and a target value, return the index if the target is found. If not, return the index where it would be if it were inserted in order.\n",
    "\n",
    "You must write an algorithm with O(log n) runtime complexity."
   ]
  },
  {
   "cell_type": "code",
   "execution_count": null,
   "id": "2718bab0",
   "metadata": {},
   "outputs": [],
   "source": [
    "nums = [1,3,5,6]\n",
    "target = 2\n",
    "diff = nums\n",
    "\n",
    "for i in range(len(nums)):\n",
    "    diff[i] = abs(nums[i] - target)\n",
    "    a = abs(min(diff))\n",
    "print('a=',a)\n",
    "print('diff',diff)\n",
    "if a == 0:\n",
    "    print('found')\n",
    "    print(diff.index(a))        \n",
    "elif a > target:\n",
    "        print('>')\n",
    "        print(diff.index(a))\n",
    "else:\n",
    "        print(diff.index(a)+1)\n",
    "    \n",
    "        \n",
    "        \n",
    "#min(diff)\n",
    "diff\n",
    "#a"
   ]
  },
  {
   "cell_type": "markdown",
   "id": "e0b6c95c",
   "metadata": {},
   "source": [
    "#### from GPT:\n",
    "\n",
    "\n",
    "${1.}$ Initialize two pointers, left and right, to point to the first and last elements of the array, respectively. $\\newline$\n",
    "${2.}$ While left $\\leq$ right, calculate the middle index as (left + right) / 2.  $\\newline$\n",
    "${3.}$ If the middle element is equal to the target value, return its index. $\\newline$\n",
    "${4.}$ If the middle element is greater than the target value, set right = mid - 1, as the target value must be in the left half of the array.  $\\newline$\n",
    "${5.}$ If the middle element is less than the target value, set left = mid + 1, as the target value must be in the right half of the array.  $\\newline$\n",
    "${6.}$ If the loop completes without finding the target value, it means the target value is not in the array. We can return the left pointer as the index where the target value would be if it were inserted in order.\n",
    "\n",
    "\n",
    "\n",
    "\n",
    "\n",
    "\n",
    "\n",
    "\n",
    "\n",
    "\n",
    "\n"
   ]
  },
  {
   "cell_type": "markdown",
   "id": "43273c46",
   "metadata": {},
   "source": [
    "### $83.$ Remove Duplicates from Sorted List\n",
    "<a href = '#26'>see 26</a>\n",
    "\n",
    "Given the <code>head</code> of a sorted linked list, delete all duplicates such that each element appears only once. Return the linked list sorted as well."
   ]
  },
  {
   "cell_type": "code",
   "execution_count": null,
   "id": "7e534f9b",
   "metadata": {},
   "outputs": [],
   "source": [
    "head = [1,1,2,2,3,3]\n",
    "\n",
    "# from GPT\n",
    "# ir works bur does not pass leetCode test\n",
    "def removeDuplicates(head):\n",
    "    if not head:\n",
    "        return []\n",
    "\n",
    "    # Initialize slow and fast pointers\n",
    "    slow = 0\n",
    "    for fast in range(1, len(head)):\n",
    "        # If the current element is not a duplicate, copy it to the next position\n",
    "        if head[fast] != head[slow]:\n",
    "            slow += 1\n",
    "            head[slow] = head[fast]\n",
    "\n",
    "    # Return the list of the unique elements\n",
    "    return head[:slow + 1]\n",
    "removeDuplicates(head)"
   ]
  },
  {
   "cell_type": "code",
   "execution_count": null,
   "id": "ebf39d34",
   "metadata": {},
   "outputs": [],
   "source": [
    "# Solution which pass leetCode test\n",
    "class Solution(object):\n",
    "    def deleteDuplicates(self, head):\n",
    "        n=head\n",
    "        if head is None:\n",
    "            return None\n",
    "        while n is not None and n.next is not None:\n",
    "            #print(n.val)\n",
    "            if n.val==n.next.val:\n",
    "                n.next=n.next.next\n",
    "            else:\n",
    "                n=n.next\n",
    "        return head\n",
    "head = [1,1,2,2,3,3,3,0]\n",
    "removeDuplicates(head)"
   ]
  },
  {
   "cell_type": "markdown",
   "id": "8387efbb",
   "metadata": {},
   "source": [
    "### $35.$ Search Insert Position\n",
    "\n",
    "Given a sorted array of distinct integers and a target value, return the index if the target is found. If not, return the index where it would be if it were inserted in order.\n",
    "\n",
    "<code>Input: nums = [1,3,5,6], target = 5\n",
    "Output: 2 </code>"
   ]
  },
  {
   "cell_type": "code",
   "execution_count": null,
   "id": "30957cd0",
   "metadata": {},
   "outputs": [],
   "source": [
    "nums = [1,3,5,6]\n",
    "target = 5\n",
    "\n",
    "for i in range(len(nums)):\n",
    "    if nums[i]==target:\n",
    "        print(i)"
   ]
  },
  {
   "cell_type": "markdown",
   "id": "add334f9",
   "metadata": {},
   "source": [
    "### $58.$ Length of Last Word\n",
    "\n",
    "Given a string s consisting of words and spaces, return the length of the last word in the string.\n",
    "\n",
    "A word is a maximal  <i>substring</i> consisting of non-space characters only.\n",
    "\n",
    "\n",
    "<b>Substring</b>\n",
    "\n",
    "A substring is a contiguous non-empty sequence of characters within a string."
   ]
  },
  {
   "cell_type": "code",
   "execution_count": null,
   "id": "62882cc3",
   "metadata": {},
   "outputs": [],
   "source": [
    "s = \"Hello World\"\n",
    "s = \"   fly me   to   the moon  \"\n",
    "s = \"luffy is still joyboy\"\n",
    "a = s.split()\n",
    "len(s.split()[-1])\n",
    "#type(a)"
   ]
  },
  {
   "cell_type": "markdown",
   "id": "d6d6b2d5",
   "metadata": {},
   "source": [
    "### $2224.$ Minimum Number of Operations to Convert Time\n",
    "\n",
    "You are given two strings <code>current</code> and <code>correct</code> representing two <b>24-hour times</b>.\n",
    "\n",
    "24-hour times are formatted as <code>\"HH:MM\"</code>, where HH is between 00 and 23, and MM is between 00 and 59. The earliest 24-hour time is 00:00, and the latest is 23:59.\n",
    "\n",
    "In one operation you can increase the time current by 1, 5, 15, or 60 minutes. You can perform this operation any number of times.\n",
    "\n",
    "Return the minimum number of operations needed to convert current to correct.\n",
    "\n",
    "example:\n",
    "current = \"02:30\", correct = \"04:35\""
   ]
  },
  {
   "cell_type": "code",
   "execution_count": null,
   "id": "cc2a8bf1",
   "metadata": {},
   "outputs": [],
   "source": [
    "def time_to_minutes(time_str: str) -> int:\n",
    "    hours, minutes = map(int, time_str.split(':'))\n",
    "    return hours * 60 + minutes\n",
    "\n",
    "def minutes_to_time(minutes: int) -> str:\n",
    "    hours, minutes = divmod(minutes, 60)\n",
    "    return f'{hours:02d}:{minutes:02d}'\n",
    "\n",
    "def min_operations(current: str, correct: str) -> int:\n",
    "    current_minutes = time_to_minutes(current)\n",
    "    correct_minutes = time_to_minutes(correct)\n",
    "    diff = correct_minutes - current_minutes\n",
    "    \n",
    "    # If the difference is negative, it means that the correct time is on the next day, \n",
    "    # so we add 24 hours (i.e., 24 * 60 minutes) to the difference.\n",
    "    if diff < 0:\n",
    "        diff += 24 * 60\n",
    "    \n",
    "    ops = 0\n",
    "    for minutes in [60, 15, 5, 1]:\n",
    "        ops += diff // minutes\n",
    "        diff %= minutes\n",
    "        \n",
    "    return ops\n",
    "\n",
    "current = \"02:30\"\n",
    "correct = \"04:35\"\n",
    "min_operations(current, correct)"
   ]
  },
  {
   "cell_type": "markdown",
   "id": "d7e3ad60",
   "metadata": {},
   "source": [
    "### 88. Merge Sorted Array\n",
    "\n",
    "\n",
    "You are given two integer arrays nums1 and nums2, sorted in non-decreasing order, and two integers m and n, representing the number of elements in nums1 and nums2 respectively.\n",
    "\n",
    "Merge nums1 and nums2 into a single array sorted in non-decreasing order.\n",
    "\n",
    "The final sorted array should not be returned by the function, but instead be stored inside the array nums1. To accommodate this, nums1 has a length of m + n, where the first m elements denote the elements that should be merged, and the last n elements are set to 0 and should be ignored. nums2 has a length of n.\n",
    "\n",
    "---\n",
    "nums1 = [1,2,3,0,0,0], m = 3, nums2 = [2,5,6], n = 3"
   ]
  },
  {
   "cell_type": "code",
   "execution_count": null,
   "id": "49d53cb6",
   "metadata": {},
   "outputs": [],
   "source": [
    "def remove_leading_zeros(arr):\n",
    "    # Find the index of the first non-zero element\n",
    "    idx = 0\n",
    "    while idx < len(arr) and arr[idx] == 0:\n",
    "        idx += 1\n",
    "\n",
    "    # Create a new array with the elements from the first non-zero element\n",
    "    new_arr = arr[idx:]\n",
    "\n",
    "    return new_arr\n",
    "\n",
    "\n",
    "nums1 = [1,2,3,0,0,0]\n",
    "m = 3\n",
    "nums2 = [2,5,6]\n",
    "n = 3\n",
    "sorted_array =  sorted(nums1+nums2)\n",
    "output = remove_leading_zeros(sorted_array)\n",
    "\n",
    "output\n",
    " "
   ]
  },
  {
   "cell_type": "markdown",
   "id": "a6711a31",
   "metadata": {},
   "source": [
    "### 28. Find the Index of the First Occurrence in a String\n",
    "Given two strings <code>needle</code> and <code>haystack</code>, return the index of the first occurrence of needle in haystack, or -1 if needle is not part of haystack"
   ]
  },
  {
   "cell_type": "code",
   "execution_count": 10,
   "id": "e9ca007b",
   "metadata": {},
   "outputs": [],
   "source": [
    "haystack = \"sadbutsad\"\n",
    "needle = \"sad\"\n",
    "\n",
    "###\n",
    "# Not Finished\n",
    "###\n"
   ]
  },
  {
   "cell_type": "code",
   "execution_count": null,
   "id": "9848c5fc",
   "metadata": {},
   "outputs": [],
   "source": []
  }
 ],
 "metadata": {
  "kernelspec": {
   "display_name": "Python 3 (ipykernel)",
   "language": "python",
   "name": "python3"
  },
  "language_info": {
   "codemirror_mode": {
    "name": "ipython",
    "version": 3
   },
   "file_extension": ".py",
   "mimetype": "text/x-python",
   "name": "python",
   "nbconvert_exporter": "python",
   "pygments_lexer": "ipython3",
   "version": "3.9.13"
  }
 },
 "nbformat": 4,
 "nbformat_minor": 5
}
